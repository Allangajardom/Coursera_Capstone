{
 "cells": [
  {
   "cell_type": "markdown",
   "metadata": {},
   "source": [
    "# Descripción de Datos"
   ]
  },
  {
   "cell_type": "markdown",
   "metadata": {},
   "source": [
    "## Descripción de Datos\n",
    "\n",
    "Se usarán los datos que se extrajeron de Wikipedia en la Semana 3, los códigos postales de Canada.\n",
    "\n",
    "Link de códigos postales: https://en.wikipedia.org/wiki/List_of_postal_codes_of_Canada:_M\n",
    "\n",
    "## Información de barrios (Foursquare API)\n",
    "\n",
    "Se necesitarán datos más específicos que contemplen o que sirvan como índices para medir la calidad de vida de cada barrio. Para esto se utilizará la API del sitio Foursquare, que que proveerá de dicha información. Foursquare es proveedor de datos de localidades, tales como calles, avenidas, eventos de interés, escuelas, cafés, restaurantes, parques, valoraciones de usuarios, etc. La API nos ayudará como puente para extraer los datos necesarios para realizar el análisis del proyecto.  \n",
    "\n",
    "## Flujo de trabajo  \n",
    "\n",
    "Usando las credenciales obtenidas en una sección anterior del curso, se usará correctamente la API de Foursquare. Debido a las limitaciones de nivel usuario de las credenciales de esta API, el parámetro *número de lugares por barrio* será fijado en 100, y el parámetro *radio* será fijado en 500.  \n",
    "\n",
    "## Librerias a usar en el proyecto:\n",
    "    Pandas: Para creación y manipulación de dataframes.\n",
    "    Folium: es una libreria de visualización en mapa, la cual ayudará para ver la distribución de los clusters en el mapa.\n",
    "    Scikit Learn: para importar las funciones del método K-means.\n",
    "    JSON: nos ayudará a manipular archivos JSON.\n",
    "    Geocoder: para obtener datos de localizaciones\n",
    "    Beautiful Soup and Requests: para raspar y obtener información de sitios web\n",
    "    Matplotlib: para graficar resultados."
   ]
  },
  {
   "cell_type": "code",
   "execution_count": null,
   "metadata": {},
   "outputs": [],
   "source": []
  }
 ],
 "metadata": {
  "kernelspec": {
   "display_name": "Python 3",
   "language": "python",
   "name": "python3"
  },
  "language_info": {
   "codemirror_mode": {
    "name": "ipython",
    "version": 3
   },
   "file_extension": ".py",
   "mimetype": "text/x-python",
   "name": "python",
   "nbconvert_exporter": "python",
   "pygments_lexer": "ipython3",
   "version": "3.7.7"
  }
 },
 "nbformat": 4,
 "nbformat_minor": 4
}
