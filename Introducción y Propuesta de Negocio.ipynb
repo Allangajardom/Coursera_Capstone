{
 "cells": [
  {
   "cell_type": "markdown",
   "metadata": {},
   "source": [
    "# Introducción y Propuesta de Negocio"
   ]
  },
  {
   "cell_type": "markdown",
   "metadata": {},
   "source": [
    "## Introducción  \n",
    "\n",
    "Scarborough es un antiguo distrito y municipio dentro de la parte oriental de la ciudad de Toronto, Ontario, Canadá. Está confinado al sur por el lago Ontario, en el oeste por Victoria Park Avenue, en el norte por Steeles Avenue East, y al este por el río Rouge y la ciudad de Pickering. En 2011 tenía una población de 625.000 habitantes.  \n",
    "\n",
    "Además es un destino popular para los nuevos inmigrantes en Canada para residir. Como resultado, Scarborough es una de las áreas más diversas y multiculturales del Área Metropolitana de Toronto, siendo el hogar de varios grupos religiosos y lugares de culto. Incluye algunos de los lugares naturales populares de Toronto, como los Scarborough Bluffs y Rouge Park Scarborough se ha declarado ser más verde que cualquier otra parte de Toronto.  \n",
    "\n",
    "## Problema a resolver  \n",
    "\n",
    "Este proyecto tiene por objetivo ayudar a las personas a explorar diferentes posibilidades en los barrios de Toronto. Utilizando métodos numéricos se podrá tomar una decisión fundada en la selección de algún barrio en Scarborough, Toronto.  \n",
    "\n",
    "En detalle, este proyecto generará un análisis comparativo de los distintos barrios de Scarborough. La información que se usará será información tal como conectividad de caminos, mejores escuelas acorde a puntajes nacionales, tasas de crimen de lugares específicos, condiciones del clima, promedio de precios de casas, recursos de agua, lugares recreacionales, etc."
   ]
  },
  {
   "cell_type": "code",
   "execution_count": null,
   "metadata": {},
   "outputs": [],
   "source": []
  }
 ],
 "metadata": {
  "kernelspec": {
   "display_name": "Python 3",
   "language": "python",
   "name": "python3"
  },
  "language_info": {
   "codemirror_mode": {
    "name": "ipython",
    "version": 3
   },
   "file_extension": ".py",
   "mimetype": "text/x-python",
   "name": "python",
   "nbconvert_exporter": "python",
   "pygments_lexer": "ipython3",
   "version": "3.7.7"
  }
 },
 "nbformat": 4,
 "nbformat_minor": 4
}
